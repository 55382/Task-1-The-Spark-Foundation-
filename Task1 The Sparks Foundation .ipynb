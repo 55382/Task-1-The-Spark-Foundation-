{
 "cells": [
  {
   "cell_type": "markdown",
   "id": "dd25c868",
   "metadata": {},
   "source": [
    "# Author:Hana Ben Ali\n",
    "# # Predict the percentage of a student based on the nb of study hours \n",
    "\n",
    "#Prediction using supervised machine learning \n",
    "#simple linear regression task it involves just 2 variables "
   ]
  },
  {
   "cell_type": "markdown",
   "id": "dc89f05e",
   "metadata": {},
   "source": [
    "## Step 1: Import Libraries ,reading dataset\n"
   ]
  },
  {
   "cell_type": "code",
   "execution_count": 232,
   "id": "5715da2d",
   "metadata": {},
   "outputs": [],
   "source": [
    "import pandas as pd \n",
    "import numpy as np\n",
    "import matplotlib.pyplot as plt\n",
    "from sklearn.model_selection  import train_test_split\n",
    "from sklearn.linear_model import LinearRegression\n",
    "from sklearn import metrics"
   ]
  },
  {
   "cell_type": "code",
   "execution_count": 233,
   "id": "83023054",
   "metadata": {},
   "outputs": [],
   "source": [
    "data=pd.read_csv (\"student_scores - student_scores.csv\")"
   ]
  },
  {
   "cell_type": "code",
   "execution_count": 234,
   "id": "f24685aa",
   "metadata": {},
   "outputs": [
    {
     "data": {
      "text/html": [
       "<div>\n",
       "<style scoped>\n",
       "    .dataframe tbody tr th:only-of-type {\n",
       "        vertical-align: middle;\n",
       "    }\n",
       "\n",
       "    .dataframe tbody tr th {\n",
       "        vertical-align: top;\n",
       "    }\n",
       "\n",
       "    .dataframe thead th {\n",
       "        text-align: right;\n",
       "    }\n",
       "</style>\n",
       "<table border=\"1\" class=\"dataframe\">\n",
       "  <thead>\n",
       "    <tr style=\"text-align: right;\">\n",
       "      <th></th>\n",
       "      <th>Hours</th>\n",
       "      <th>Scores</th>\n",
       "    </tr>\n",
       "  </thead>\n",
       "  <tbody>\n",
       "    <tr>\n",
       "      <th>0</th>\n",
       "      <td>2.5</td>\n",
       "      <td>21</td>\n",
       "    </tr>\n",
       "    <tr>\n",
       "      <th>1</th>\n",
       "      <td>5.1</td>\n",
       "      <td>47</td>\n",
       "    </tr>\n",
       "    <tr>\n",
       "      <th>2</th>\n",
       "      <td>3.2</td>\n",
       "      <td>27</td>\n",
       "    </tr>\n",
       "    <tr>\n",
       "      <th>3</th>\n",
       "      <td>8.5</td>\n",
       "      <td>75</td>\n",
       "    </tr>\n",
       "    <tr>\n",
       "      <th>4</th>\n",
       "      <td>3.5</td>\n",
       "      <td>30</td>\n",
       "    </tr>\n",
       "  </tbody>\n",
       "</table>\n",
       "</div>"
      ],
      "text/plain": [
       "   Hours  Scores\n",
       "0    2.5      21\n",
       "1    5.1      47\n",
       "2    3.2      27\n",
       "3    8.5      75\n",
       "4    3.5      30"
      ]
     },
     "execution_count": 234,
     "metadata": {},
     "output_type": "execute_result"
    }
   ],
   "source": [
    "data.head()\n"
   ]
  },
  {
   "cell_type": "code",
   "execution_count": 235,
   "id": "1bd3b85b",
   "metadata": {},
   "outputs": [
    {
     "data": {
      "text/plain": [
       "(25, 2)"
      ]
     },
     "execution_count": 235,
     "metadata": {},
     "output_type": "execute_result"
    }
   ],
   "source": [
    "np.shape(data)"
   ]
  },
  {
   "cell_type": "code",
   "execution_count": 236,
   "id": "9e508a28",
   "metadata": {},
   "outputs": [
    {
     "data": {
      "text/html": [
       "<div>\n",
       "<style scoped>\n",
       "    .dataframe tbody tr th:only-of-type {\n",
       "        vertical-align: middle;\n",
       "    }\n",
       "\n",
       "    .dataframe tbody tr th {\n",
       "        vertical-align: top;\n",
       "    }\n",
       "\n",
       "    .dataframe thead th {\n",
       "        text-align: right;\n",
       "    }\n",
       "</style>\n",
       "<table border=\"1\" class=\"dataframe\">\n",
       "  <thead>\n",
       "    <tr style=\"text-align: right;\">\n",
       "      <th></th>\n",
       "      <th>Hours</th>\n",
       "      <th>Scores</th>\n",
       "    </tr>\n",
       "  </thead>\n",
       "  <tbody>\n",
       "    <tr>\n",
       "      <th>count</th>\n",
       "      <td>25.000000</td>\n",
       "      <td>25.000000</td>\n",
       "    </tr>\n",
       "    <tr>\n",
       "      <th>mean</th>\n",
       "      <td>5.012000</td>\n",
       "      <td>51.480000</td>\n",
       "    </tr>\n",
       "    <tr>\n",
       "      <th>std</th>\n",
       "      <td>2.525094</td>\n",
       "      <td>25.286887</td>\n",
       "    </tr>\n",
       "    <tr>\n",
       "      <th>min</th>\n",
       "      <td>1.100000</td>\n",
       "      <td>17.000000</td>\n",
       "    </tr>\n",
       "    <tr>\n",
       "      <th>25%</th>\n",
       "      <td>2.700000</td>\n",
       "      <td>30.000000</td>\n",
       "    </tr>\n",
       "    <tr>\n",
       "      <th>50%</th>\n",
       "      <td>4.800000</td>\n",
       "      <td>47.000000</td>\n",
       "    </tr>\n",
       "    <tr>\n",
       "      <th>75%</th>\n",
       "      <td>7.400000</td>\n",
       "      <td>75.000000</td>\n",
       "    </tr>\n",
       "    <tr>\n",
       "      <th>max</th>\n",
       "      <td>9.200000</td>\n",
       "      <td>95.000000</td>\n",
       "    </tr>\n",
       "  </tbody>\n",
       "</table>\n",
       "</div>"
      ],
      "text/plain": [
       "           Hours     Scores\n",
       "count  25.000000  25.000000\n",
       "mean    5.012000  51.480000\n",
       "std     2.525094  25.286887\n",
       "min     1.100000  17.000000\n",
       "25%     2.700000  30.000000\n",
       "50%     4.800000  47.000000\n",
       "75%     7.400000  75.000000\n",
       "max     9.200000  95.000000"
      ]
     },
     "execution_count": 236,
     "metadata": {},
     "output_type": "execute_result"
    }
   ],
   "source": [
    "data.describe()"
   ]
  },
  {
   "cell_type": "code",
   "execution_count": 237,
   "id": "ecd35928",
   "metadata": {},
   "outputs": [],
   "source": [
    "#Now we have an idea about statistical details of our data. The next step is to divide the data into \"attributes\" and \"labels\".\n",
    "#Our attribute set will consist of the \"Hours\" column, and the label will be the \"Score\" column"
   ]
  },
  {
   "cell_type": "code",
   "execution_count": 238,
   "id": "80d70ead",
   "metadata": {},
   "outputs": [
    {
     "data": {
      "text/plain": [
       "array([[21],\n",
       "       [47],\n",
       "       [27],\n",
       "       [75],\n",
       "       [30],\n",
       "       [20],\n",
       "       [88],\n",
       "       [60],\n",
       "       [81],\n",
       "       [25],\n",
       "       [85],\n",
       "       [62],\n",
       "       [41],\n",
       "       [42],\n",
       "       [17],\n",
       "       [95],\n",
       "       [30],\n",
       "       [24],\n",
       "       [67],\n",
       "       [69],\n",
       "       [30],\n",
       "       [54],\n",
       "       [35],\n",
       "       [76],\n",
       "       [86]], dtype=int64)"
      ]
     },
     "execution_count": 238,
     "metadata": {},
     "output_type": "execute_result"
    }
   ],
   "source": [
    "x=data[['Hours']].values.reshape(-1,1) \n",
    "y=data[['Scores']].values.reshape(-1,1)\n",
    "y"
   ]
  },
  {
   "cell_type": "markdown",
   "id": "cb07ce7b",
   "metadata": {},
   "source": [
    "## Step2:Visualizing the dataset"
   ]
  },
  {
   "cell_type": "code",
   "execution_count": 239,
   "id": "c62b597b",
   "metadata": {},
   "outputs": [
    {
     "data": {
      "text/plain": [
       "Text(0, 0.5, 'Scores')"
      ]
     },
     "execution_count": 239,
     "metadata": {},
     "output_type": "execute_result"
    },
    {
     "data": {
      "image/png": "[encoded data removed]",
      "text/plain": [
       "<Figure size 432x288 with 1 Axes>"
      ]
     },
     "metadata": {
      "needs_background": "light"
     },
     "output_type": "display_data"
    }
   ],
   "source": [
    "%matplotlib inline \n",
    "plt.scatter(x,y,color='blue')\n",
    "plt.title('Hours vs Percentage')  \n",
    "plt.xlabel('Hours_studied')\n",
    "plt.ylabel('Scores')"
   ]
  },
  {
   "cell_type": "markdown",
   "id": "afe9cbfb",
   "metadata": {},
   "source": [
    "## Step3:splitting the data into training and testing splits( test_size=0.2)"
   ]
  },
  {
   "cell_type": "code",
   "execution_count": 240,
   "id": "a1e556a3",
   "metadata": {},
   "outputs": [],
   "source": [
    "x_train ,x_test ,y_train,y_test= train_test_split(x,y,test_size=0.2,random_state=42)"
   ]
  },
  {
   "cell_type": "markdown",
   "id": "cbe2987a",
   "metadata": {},
   "source": [
    "## Step4:training the algorithm"
   ]
  },
  {
   "cell_type": "code",
   "execution_count": 241,
   "id": "ca49af99",
   "metadata": {},
   "outputs": [],
   "source": [
    "regressor=LinearRegression()\n"
   ]
  },
  {
   "cell_type": "code",
   "execution_count": 242,
   "id": "deef06f1",
   "metadata": {},
   "outputs": [
    {
     "data": {
      "text/plain": [
       "LinearRegression()"
      ]
     },
     "execution_count": 242,
     "metadata": {},
     "output_type": "execute_result"
    }
   ],
   "source": [
    "regressor.fit(x_train,y_train)"
   ]
  },
  {
   "cell_type": "code",
   "execution_count": 243,
   "id": "c1320656",
   "metadata": {},
   "outputs": [
    {
     "data": {
      "text/plain": [
       "array([2.82689235])"
      ]
     },
     "execution_count": 243,
     "metadata": {},
     "output_type": "execute_result"
    }
   ],
   "source": [
    "regressor.intercept_"
   ]
  },
  {
   "cell_type": "code",
   "execution_count": 244,
   "id": "c1033562",
   "metadata": {},
   "outputs": [],
   "source": [
    "#this means for every one unit increase in the hours studied, the change in the score is about 2.83%"
   ]
  },
  {
   "cell_type": "code",
   "execution_count": 245,
   "id": "3db08f58",
   "metadata": {},
   "outputs": [
    {
     "data": {
      "text/plain": [
       "<matplotlib.collections.PathCollection at 0x2294f278b20>"
      ]
     },
     "execution_count": 245,
     "metadata": {},
     "output_type": "execute_result"
    },
    {
     "data": {
      "image/png": "[encoded data removed]",
      "text/plain": [
       "<Figure size 432x288 with 1 Axes>"
      ]
     },
     "metadata": {
      "needs_background": "light"
     },
     "output_type": "display_data"
    }
   ],
   "source": [
    "line_fitted =regressor.coef_*x+regressor.intercept_\n",
    "plt.plot(x,line_fitted)\n",
    "plt.scatter(x,y,color='red')\n"
   ]
  },
  {
   "cell_type": "code",
   "execution_count": 246,
   "id": "22e01da9",
   "metadata": {},
   "outputs": [],
   "source": [
    "#Making predictions and compare "
   ]
  },
  {
   "cell_type": "code",
   "execution_count": 247,
   "id": "12a2e008",
   "metadata": {
    "scrolled": true
   },
   "outputs": [],
   "source": [
    "y_pred=regressor.predict(x_test)"
   ]
  },
  {
   "cell_type": "code",
   "execution_count": 248,
   "id": "9d081174",
   "metadata": {},
   "outputs": [
    {
     "data": {
      "text/html": [
       "<div>\n",
       "<style scoped>\n",
       "    .dataframe tbody tr th:only-of-type {\n",
       "        vertical-align: middle;\n",
       "    }\n",
       "\n",
       "    .dataframe tbody tr th {\n",
       "        vertical-align: top;\n",
       "    }\n",
       "\n",
       "    .dataframe thead th {\n",
       "        text-align: right;\n",
       "    }\n",
       "</style>\n",
       "<table border=\"1\" class=\"dataframe\">\n",
       "  <thead>\n",
       "    <tr style=\"text-align: right;\">\n",
       "      <th></th>\n",
       "      <th>Predicted</th>\n",
       "      <th>Actual</th>\n",
       "    </tr>\n",
       "  </thead>\n",
       "  <tbody>\n",
       "    <tr>\n",
       "      <th>0</th>\n",
       "      <td>[83.18814103588203]</td>\n",
       "      <td>[81]</td>\n",
       "    </tr>\n",
       "    <tr>\n",
       "      <th>1</th>\n",
       "      <td>[27.03208774003898]</td>\n",
       "      <td>[30]</td>\n",
       "    </tr>\n",
       "    <tr>\n",
       "      <th>2</th>\n",
       "      <td>[27.03208774003898]</td>\n",
       "      <td>[21]</td>\n",
       "    </tr>\n",
       "    <tr>\n",
       "      <th>3</th>\n",
       "      <td>[69.63323161964405]</td>\n",
       "      <td>[76]</td>\n",
       "    </tr>\n",
       "    <tr>\n",
       "      <th>4</th>\n",
       "      <td>[59.951153465188355]</td>\n",
       "      <td>[62]</td>\n",
       "    </tr>\n",
       "  </tbody>\n",
       "</table>\n",
       "</div>"
      ],
      "text/plain": [
       "              Predicted Actual\n",
       "0   [83.18814103588203]   [81]\n",
       "1   [27.03208774003898]   [30]\n",
       "2   [27.03208774003898]   [21]\n",
       "3   [69.63323161964405]   [76]\n",
       "4  [59.951153465188355]   [62]"
      ]
     },
     "execution_count": 248,
     "metadata": {},
     "output_type": "execute_result"
    }
   ],
   "source": [
    "pd.DataFrame((zip(y_pred,y_test)),columns =['Predicted', 'Actual'])"
   ]
  },
  {
   "cell_type": "markdown",
   "id": "8dc2fc5b",
   "metadata": {},
   "source": [
    "## what will be predicted score if a student studies for 9.25 hours a day?"
   ]
  },
  {
   "cell_type": "code",
   "execution_count": 249,
   "id": "3d0b04ae",
   "metadata": {},
   "outputs": [
    {
     "name": "stdout",
     "output_type": "stream",
     "text": [
      "if a student study= 9.25\n",
      "he will probably obtain a score = 92.38611528261494  \n"
     ]
    }
   ],
   "source": [
    "hours_studied= 9.25\n",
    "score_obtained= regressor.predict([[hours_studied]])\n",
    "print (\"if a student study= {}\\nhe will probably obtain a score = {}  \".format(hours_studied,score_obtained[0][0]))"
   ]
  },
  {
   "cell_type": "markdown",
   "id": "34d57380",
   "metadata": {},
   "source": [
    "## Model Evaluation   (RMSE,R^2)"
   ]
  },
  {
   "cell_type": "markdown",
   "id": "e046d936",
   "metadata": {},
   "source": [
    "#### RMSE (the most popular metric used)"
   ]
  },
  {
   "cell_type": "code",
   "execution_count": 250,
   "id": "8d16f722",
   "metadata": {},
   "outputs": [
    {
     "name": "stdout",
     "output_type": "stream",
     "text": [
      "Root_mean_squared_error: 4.352380006653288\n"
     ]
    }
   ],
   "source": [
    "print (\"Root_mean_squared_error:\",np.sqrt(metrics.mean_squared_error(y_test,y_pred)) )"
   ]
  },
  {
   "cell_type": "markdown",
   "id": "24be51d2",
   "metadata": {},
   "source": [
    "####   RMSE calculated   is low "
   ]
  },
  {
   "cell_type": "markdown",
   "id": "13baa71e",
   "metadata": {},
   "source": [
    "#### R^2 score"
   ]
  },
  {
   "cell_type": "code",
   "execution_count": 251,
   "id": "62ce24b5",
   "metadata": {},
   "outputs": [
    {
     "name": "stdout",
     "output_type": "stream",
     "text": [
      "R^2 score: 0.9678055545167994\n"
     ]
    }
   ],
   "source": [
    "print (\"R^2 score:\",regressor.score(x_test, y_test)) # the R^2 score by default"
   ]
  },
  {
   "cell_type": "markdown",
   "id": "990b4dd5",
   "metadata": {},
   "source": [
    "#### That means that 96% of the variable \"Hours\" are explained by the variable \"score\""
   ]
  },
  {
   "cell_type": "markdown",
   "id": "a32e43ea",
   "metadata": {},
   "source": [
    "#### This is the best case since the predictions are accurate (low RMSE) 4.352380006653288 and the predictor mostly determines the observed value (high R²) 0.9678055545167994"
   ]
  },
  {
   "cell_type": "markdown",
   "id": "f3ae2d2d",
   "metadata": {},
   "source": [
    "# thank you 😊"
   ]
  },
  {
   "cell_type": "code",
   "execution_count": null,
   "id": "560a0466",
   "metadata": {},
   "outputs": [],
   "source": []
  },
  {
   "cell_type": "code",
   "execution_count": null,
   "id": "02fff44a",
   "metadata": {},
   "outputs": [],
   "source": []
  },
  {
   "cell_type": "code",
   "execution_count": null,
   "id": "b430d3e6",
   "metadata": {},
   "outputs": [],
   "source": []
  },
  {
   "cell_type": "code",
   "execution_count": null,
   "id": "516144a6",
   "metadata": {},
   "outputs": [],
   "source": []
  }
 ],
 "metadata": {
  "celltoolbar": "Raw Cell Format",
  "kernelspec": {
   "display_name": "Python 3 (ipykernel)",
   "language": "python",
   "name": "python3"
  },
  "language_info": {
   "codemirror_mode": {
    "name": "ipython",
    "version": 3
   },
   "file_extension": ".py",
   "mimetype": "text/x-python",
   "name": "python",
   "nbconvert_exporter": "python",
   "pygments_lexer": "ipython3",
   "version": "3.9.7"
  }
 },
 "nbformat": 4,
 "nbformat_minor": 5
}
